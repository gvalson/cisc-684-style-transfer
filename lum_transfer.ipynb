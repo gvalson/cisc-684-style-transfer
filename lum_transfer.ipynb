{
 "cells": [
  {
   "cell_type": "code",
   "execution_count": 24,
   "metadata": {},
   "outputs": [],
   "source": [
    "import os\n",
    "import numpy as np\n",
    "from PIL import Image\n",
    "from glob import glob\n",
    "\n",
    "artist = 'vincent-van-gogh'\n",
    "style = 'Post_Impressionism'\n",
    "for img_path in glob(os.path.join('../data/wikiart', style, f'{artist}*.jpg')):\n",
    "    img = Image.open(img_path)\n",
    "    img_lum = img.convert('YCbCr').split()[0]\n",
    "    if not os.path.exists(os.path.dirname(img_path.replace('wikiart', 'wikiart_lum'))):\n",
    "        os.mkdir(os.path.dirname(img_path.replace('wikiart', 'wikiart_lum')))\n",
    "    img_lum.save(img_path.replace('wikiart', 'wikiart_lum'))"
   ]
  }
 ],
 "metadata": {
  "kernelspec": {
   "display_name": "py38",
   "language": "python",
   "name": "python3"
  },
  "language_info": {
   "codemirror_mode": {
    "name": "ipython",
    "version": 3
   },
   "file_extension": ".py",
   "mimetype": "text/x-python",
   "name": "python",
   "nbconvert_exporter": "python",
   "pygments_lexer": "ipython3",
   "version": "3.8.19"
  }
 },
 "nbformat": 4,
 "nbformat_minor": 2
}
